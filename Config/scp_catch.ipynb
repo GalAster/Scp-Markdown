{
 "cells": [
  {
   "cell_type": "code",
   "execution_count": 227,
   "metadata": {},
   "outputs": [],
   "source": [
    "# -*- coding: utf-8 -*-\n",
    "import json\n",
    "import re\n",
    "import requests\n",
    "from bs4 import BeautifulSoup\n",
    "\n",
    "def filter_tags(htmlstr):\n",
    "    re_div = re.compile('<div(([\\s\\S])*?)\\>', re.I)\n",
    "    re_divn = re.compile('</div>', re.I)\n",
    "    re_img = re.compile('<img(([\\s\\S])*?)\\>', re.I)\n",
    "    re_imgn = re.compile('</img>', re.I)\n",
    "    re_nn = re.compile('\\n\\n', re.I)\n",
    "    s = re_div.sub('', htmlstr)\n",
    "    s = re_divn.sub('\\n', s)\n",
    "    s = re_img.sub('', s)\n",
    "    s = re_imgn.sub('\\n', s)\n",
    "    s = re_nn.sub('', s)\n",
    "    return s\n",
    "\n",
    "def scp_getxml(url):\n",
    "    soup = BeautifulSoup(requests.get(url, encoding='utf-8').text, 'lxml')\n",
    "    head = soup.find('head')\n",
    "    node = soup.find('div', id=\"page-content\")\n",
    "    text = \"\".join('%s' % id for id in (head.select('title') + node.contents))\n",
    "    return filter_tags(text)\n",
    "\n",
    "def scp_getjson(record):\n",
    "    if isinstance(record['Url'], list):\n",
    "        url = map(lambda x: \"http://\" + x, record['Url'])\n",
    "        text = \"\".join(map(scp_getxml, url))\n",
    "    else:\n",
    "        url = \"http://\" + record['Url']\n",
    "        text = scp_getxml(url)\n",
    "    return (json.dumps({\n",
    "        'Number': record['Number'],\n",
    "        'Name': record['Name'],\n",
    "        'HTML': text\n",
    "    }, ensure_ascii=False))\n",
    "\n",
    "def scp_export(path, output):\n",
    "    records = json.load(open(path, \"rb\"))\n",
    "    export = \"\".join(map(scp_getjson, records))\n",
    "    fileObject = open(output, 'w')\n",
    "    fileObject.write(export)\n",
    "    fileObject.close()\n"
   ]
  },
  {
   "cell_type": "code",
   "execution_count": null,
   "metadata": {},
   "outputs": [],
   "source": [
    "%%time\n",
    "scp_export(r'main.config.json',r'main.data.json')"
   ]
  },
  {
   "cell_type": "code",
   "execution_count": null,
   "metadata": {},
   "outputs": [],
   "source": [
    "%%time\n",
    "scp_export(r'branch.config.json',r'branch.data.json')"
   ]
  },
  {
   "cell_type": "code",
   "execution_count": null,
   "metadata": {},
   "outputs": [],
   "source": [
    "%%time\n",
    "scp_export(r'special.config.json',r'special.data.json')"
   ]
  }
 ],
 "metadata": {
  "kernelspec": {
   "display_name": "Python 3",
   "language": "python",
   "name": "python3"
  },
  "language_info": {
   "codemirror_mode": {
    "name": "ipython",
    "version": 3
   },
   "file_extension": ".py",
   "mimetype": "text/x-python",
   "name": "python",
   "nbconvert_exporter": "python",
   "pygments_lexer": "ipython3",
   "version": "3.6.5"
  }
 },
 "nbformat": 4,
 "nbformat_minor": 2
}
